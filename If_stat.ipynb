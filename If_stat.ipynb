{
 "cells": [
  {
   "cell_type": "code",
   "execution_count": 6,
   "metadata": {},
   "outputs": [
    {
     "name": "stdout",
     "output_type": "stream",
     "text": [
      "The difference b/w number 1 and number 2 is 0\n"
     ]
    }
   ],
   "source": [
    "# if statements to check if the difference of 2 variables is negetive or 0 \n",
    "\n",
    "a = int(input(\"variable 1\"))\n",
    "b = int(input(\"Variable 2\"))\n",
    "\n",
    "if(a-b > 0):\n",
    "    print(\"The difference b/w number 1 and number 2 is positive\")\n",
    "elif(a-b == 0):\n",
    "    print(\"The difference b/w number 1 and number 2 is 0\")\n",
    "else:\n",
    "    print(\"The difference b/w number 1 and number 2 negetive\")\n"
   ]
  },
  {
   "cell_type": "code",
   "execution_count": 8,
   "metadata": {},
   "outputs": [
    {
     "name": "stdout",
     "output_type": "stream",
     "text": [
      "Variable 56 is the greatest\n"
     ]
    }
   ],
   "source": [
    "# If statement to check the greatest of 3 numbers \n",
    "\n",
    "def greatest(a,b,c):\n",
    "    \n",
    "    if(a >= b and a>= c):\n",
    "        return a\n",
    "    elif(b >= a and b>= c):\n",
    "        return b\n",
    "    else:\n",
    "        return c\n",
    "\n",
    "print(\"Variable \" + str(greatest(int(input(\"variable 1\")),int(input(\"Variable 2\")),int(input(\"Variable 2\")))) + \" is the greatest\")"
   ]
  }
 ],
 "metadata": {
  "kernelspec": {
   "display_name": "Python 3.10.6 64-bit",
   "language": "python",
   "name": "python3"
  },
  "language_info": {
   "codemirror_mode": {
    "name": "ipython",
    "version": 3
   },
   "file_extension": ".py",
   "mimetype": "text/x-python",
   "name": "python",
   "nbconvert_exporter": "python",
   "pygments_lexer": "ipython3",
   "version": "3.10.6"
  },
  "orig_nbformat": 4,
  "vscode": {
   "interpreter": {
    "hash": "aee8b7b246df8f9039afb4144a1f6fd8d2ca17a180786b69acc140d282b71a49"
   }
  }
 },
 "nbformat": 4,
 "nbformat_minor": 2
}
