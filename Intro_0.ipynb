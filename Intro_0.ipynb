{
 "cells": [
  {
   "cell_type": "code",
   "execution_count": null,
   "metadata": {},
   "outputs": [],
   "source": [
    "# This is Introduction to Python\n",
    "print(\"Basics of Python\")\n",
    "print(21**32)\n",
    "print(5908//2)\n",
    "print(1004^10)\n",
    "Name = \"Musthafa\"\n",
    "print(\"What's up\",Name)"
   ]
  },
  {
   "cell_type": "code",
   "execution_count": null,
   "metadata": {},
   "outputs": [],
   "source": [
    "Input_name = input(\"whats your name ?? \")\n",
    "print(\"The Name you have input is :\",Input_name)"
   ]
  },
  {
   "cell_type": "code",
   "execution_count": null,
   "metadata": {},
   "outputs": [],
   "source": [
    "#program to check the of Individual \n",
    "from ast import If\n",
    "\n",
    "Input_Age = int(input(\"Whats your age\"))\n",
    "if (Input_Age >= 18):\n",
    "    print(\"Acess Granted\")\n",
    "elif(Input_Age >= 16):\n",
    "    print(\"Acess granted with restrictions\")\n",
    "else:\n",
    "    print(\"Acess Denied\")"
   ]
  }
 ],
 "metadata": {
  "kernelspec": {
   "display_name": "Python 3.10.6 64-bit",
   "language": "python",
   "name": "python3"
  },
  "language_info": {
   "codemirror_mode": {
    "name": "ipython",
    "version": 3
   },
   "file_extension": ".py",
   "mimetype": "text/x-python",
   "name": "python",
   "nbconvert_exporter": "python",
   "pygments_lexer": "ipython3",
   "version": "3.10.6"
  },
  "orig_nbformat": 4,
  "vscode": {
   "interpreter": {
    "hash": "aee8b7b246df8f9039afb4144a1f6fd8d2ca17a180786b69acc140d282b71a49"
   }
  }
 },
 "nbformat": 4,
 "nbformat_minor": 2
}
