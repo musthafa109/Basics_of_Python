{
 "cells": [
  {
   "cell_type": "code",
   "execution_count": 5,
   "metadata": {},
   "outputs": [
    {
     "name": "stdout",
     "output_type": "stream",
     "text": [
      "Your Name is Jeff and your age is 24\n"
     ]
    }
   ],
   "source": [
    "# This is an example of a Function \n",
    "\n",
    "def Print_name(name,age):\n",
    "    print(\"Your Name is \" + name + \" and your age is \" + str(age))\n",
    "          \n",
    "Print_name(\"Jeff\",24)"
   ]
  },
  {
   "cell_type": "code",
   "execution_count": 9,
   "metadata": {},
   "outputs": [
    {
     "name": "stdout",
     "output_type": "stream",
     "text": [
      "30\n"
     ]
    }
   ],
   "source": [
    "# This fuction retuns a value \n",
    "\n",
    "def addition(x,y):\n",
    "    sum=int(x)+int(y) #input fucntion is by deault a string \n",
    "    return sum\n",
    "\n",
    "print(addition(input(\"Input variable 1\"),input(\"Input Variable 2\")))\n"
   ]
  },
  {
   "cell_type": "code",
   "execution_count": null,
   "metadata": {},
   "outputs": [],
   "source": []
  }
 ],
 "metadata": {
  "kernelspec": {
   "display_name": "Python 3.10.6 64-bit",
   "language": "python",
   "name": "python3"
  },
  "language_info": {
   "codemirror_mode": {
    "name": "ipython",
    "version": 3
   },
   "file_extension": ".py",
   "mimetype": "text/x-python",
   "name": "python",
   "nbconvert_exporter": "python",
   "pygments_lexer": "ipython3",
   "version": "3.10.6"
  },
  "orig_nbformat": 4,
  "vscode": {
   "interpreter": {
    "hash": "aee8b7b246df8f9039afb4144a1f6fd8d2ca17a180786b69acc140d282b71a49"
   }
  }
 },
 "nbformat": 4,
 "nbformat_minor": 2
}
