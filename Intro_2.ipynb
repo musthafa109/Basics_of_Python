{
 "cells": [
  {
   "cell_type": "code",
   "execution_count": 10,
   "metadata": {},
   "outputs": [
    {
     "name": "stdout",
     "output_type": "stream",
     "text": [
      "The name of this program is - 5\n"
     ]
    }
   ],
   "source": [
    "Alpha = 5\n",
    "print(\"The name of this program is - \" + str(Alpha))\n",
    "## Integers cannot be combined with strings , so we need to convert int to string "
   ]
  },
  {
   "cell_type": "code",
   "execution_count": 15,
   "metadata": {},
   "outputs": [
    {
     "name": "stdout",
     "output_type": "stream",
     "text": [
      "s\n"
     ]
    }
   ],
   "source": [
    "## This code looks at the sring as an array and looks at 5th index in the string_array\n",
    "string_array = \"This is a test subject\"\n",
    "print(string_array[12])"
   ]
  },
  {
   "cell_type": "code",
   "execution_count": 14,
   "metadata": {},
   "outputs": [
    {
     "name": "stdout",
     "output_type": "stream",
     "text": [
      "22\n",
      "8\n",
      "This is a modified test subject\n",
      "this is a test subject\n",
      "THIS IS A TEST SUBJECT\n"
     ]
    }
   ],
   "source": [
    "## This function is used to che check the length and obtain the index at which the character is present \n",
    "string_array = \"This is a test subject\"\n",
    "print(len(string_array))\n",
    "print(string_array.index(\"a\"))\n",
    "\n",
    "## This function is used to replace the character ina  string \n",
    "mod_string_array = string_array.replace(\"test\",\"modified test\")\n",
    "print(mod_string_array)\n",
    "\n",
    "# This functon is used to covert to uppercase/lowercase\n",
    "print(string_array.lower())\n",
    "print(string_array.upper())"
   ]
  },
  {
   "cell_type": "code",
   "execution_count": 32,
   "metadata": {},
   "outputs": [
    {
     "name": "stdout",
     "output_type": "stream",
     "text": [
      "['alpha', 'beta', 'gamma', 'theta', 'roger', 'charlie']\n",
      "roger\n",
      "['beta', 'gamma', 'theta']\n",
      "['alpha', 'sign', 'gamma', 'theta', 'roger', 'charlie']\n",
      "[1, 3, 6, 8, 3, 6, 89, 67.8, 98.6, 0, 'alpha', 'sign', 'gamma', 'theta', 'Hello Sir', 'roger', 'charlie', 'Bannur', 1, 3, 6, 8, 3, 6, 89, 67.8, 98.6, 0]\n",
      "[1, 3, 6, 8, 3, 6, 89, 67.8, 98.6, 0, 'alpha', 'sign', 'gamma', 'theta', 'Hello Sir', 'roger', 'charlie', 1, 3, 6, 8, 3, 6, 89, 67.8, 98.6, 0]\n",
      "[]\n",
      "2\n",
      "[0, 1, 3, 3, 6, 6, 8, 67.8, 89, 98.6]\n",
      "2\n"
     ]
    }
   ],
   "source": [
    "# Working with list \n",
    "\n",
    "list_string=[ \"alpha\", \"beta\" , \"gamma\" , \"theta\" , \"roger\" , \"charlie\"]\n",
    "list_num = [1,3,6,8,3,6,89,67.8,98.6,0]\n",
    "print(list_string)\n",
    "print(list_string[-2])\n",
    "print(list_string[1:4])\n",
    "list_string[1] = \"sign\"\n",
    "print(list_string)\n",
    "\n",
    "#functions for list\n",
    "list_string.append(\"Bannur\")\n",
    "list_string.insert(4,\"Hello Sir\")\n",
    "list_string.extend(list_num)\n",
    "list_all = list_num + list_string\n",
    "print(list_all)\n",
    "list_all.remove(\"Bannur\")\n",
    "print(list_all)\n",
    "list_all.clear()\n",
    "print(list_all)\n",
    "print(list_num.index(6))\n",
    "list_num.sort()\n",
    "print(list_num)\n",
    "print(list_num.count(3))\n",
    "\n"
   ]
  },
  {
   "cell_type": "code",
   "execution_count": null,
   "metadata": {},
   "outputs": [],
   "source": []
  }
 ],
 "metadata": {
  "kernelspec": {
   "display_name": "Python 3.10.6 64-bit",
   "language": "python",
   "name": "python3"
  },
  "language_info": {
   "codemirror_mode": {
    "name": "ipython",
    "version": 3
   },
   "file_extension": ".py",
   "mimetype": "text/x-python",
   "name": "python",
   "nbconvert_exporter": "python",
   "pygments_lexer": "ipython3",
   "version": "3.10.6"
  },
  "orig_nbformat": 4,
  "vscode": {
   "interpreter": {
    "hash": "aee8b7b246df8f9039afb4144a1f6fd8d2ca17a180786b69acc140d282b71a49"
   }
  }
 },
 "nbformat": 4,
 "nbformat_minor": 2
}
