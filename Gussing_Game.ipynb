{
 "cells": [
  {
   "cell_type": "markdown",
   "metadata": {},
   "source": [
    "This is a Gussing Game :\n",
    "Rules of the game: \n",
    "        1. Guess an animal name \n",
    "        2. You get only 4 tries\n"
   ]
  },
  {
   "cell_type": "code",
   "execution_count": 1,
   "metadata": {},
   "outputs": [
    {
     "name": "stdout",
     "output_type": "stream",
     "text": [
      "Please try again\n",
      "The animal is spelt using 3 letters\n",
      "The first letter starts with D\n",
      "Last turn to guess\n",
      "Bonus turn\n",
      "You have gussed the right animal\n"
     ]
    }
   ],
   "source": [
    "i=1\n",
    "animal=\"a\"\n",
    "while(i<=5 and animal !=\"dog\"):\n",
    "    animal=input(\"Guess the name of the Animal\")\n",
    "    i+=1\n",
    "    if(animal == \"dog\"):\n",
    "        print(\"You have gussed the right animal\")\n",
    "    elif(i==2):\n",
    "        print(\"Please try again\")\n",
    "        hint=input(\"Do you want a 1st hint , y/n\")\n",
    "        if(hint==\"y\"):\n",
    "            print(\"The animal is spelt using 3 letters\")\n",
    "    elif(i==3):\n",
    "        hint=input(\"Do you want the 2nd hint, y/n\")\n",
    "        if(hint==\"y\"):\n",
    "            print(\"The first letter starts with D\")\n",
    "    elif(i==4):\n",
    "        print(\"Last turn to guess\")\n",
    "    elif(i==5):\n",
    "        print(\"Bonus turn\")\n",
    "    else:\n",
    "        print(\"You failed\")    "
   ]
  }
 ],
 "metadata": {
  "kernelspec": {
   "display_name": "Python 3.10.6 64-bit",
   "language": "python",
   "name": "python3"
  },
  "language_info": {
   "codemirror_mode": {
    "name": "ipython",
    "version": 3
   },
   "file_extension": ".py",
   "mimetype": "text/x-python",
   "name": "python",
   "nbconvert_exporter": "python",
   "pygments_lexer": "ipython3",
   "version": "3.10.6"
  },
  "orig_nbformat": 4,
  "vscode": {
   "interpreter": {
    "hash": "aee8b7b246df8f9039afb4144a1f6fd8d2ca17a180786b69acc140d282b71a49"
   }
  }
 },
 "nbformat": 4,
 "nbformat_minor": 2
}
