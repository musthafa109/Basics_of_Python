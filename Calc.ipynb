{
 "cells": [
  {
   "cell_type": "code",
   "execution_count": 5,
   "metadata": {},
   "outputs": [
    {
     "name": "stdout",
     "output_type": "stream",
     "text": [
      "The result is = Invalid operator input\n"
     ]
    }
   ],
   "source": [
    "# Calculator that operates on 2 variables\n",
    "\n",
    "def calculator(num1,num2,operator):\n",
    "    if operator ==\"+\":\n",
    "        return num1+num2\n",
    "    elif operator ==\"-\":\n",
    "        return num1-num2\n",
    "    elif operator == \"*\":\n",
    "        return num1*num2\n",
    "    elif operator == \"/\":\n",
    "        return num1/num2\n",
    "    elif operator == \"%\":\n",
    "        return num1%num2\n",
    "    else:\n",
    "        return \"Invalid operator input\" \n",
    "\n",
    "print(\"The result is = \"+ str(calculator(int(input(\"Enter number 1\")),int(input(\"Enter number 2\")),input(\"Enter operation to be performed\"))))\n",
    "\n",
    "\n"
   ]
  }
 ],
 "metadata": {
  "kernelspec": {
   "display_name": "Python 3.10.6 64-bit",
   "language": "python",
   "name": "python3"
  },
  "language_info": {
   "codemirror_mode": {
    "name": "ipython",
    "version": 3
   },
   "file_extension": ".py",
   "mimetype": "text/x-python",
   "name": "python",
   "nbconvert_exporter": "python",
   "pygments_lexer": "ipython3",
   "version": "3.10.6"
  },
  "orig_nbformat": 4,
  "vscode": {
   "interpreter": {
    "hash": "aee8b7b246df8f9039afb4144a1f6fd8d2ca17a180786b69acc140d282b71a49"
   }
  }
 },
 "nbformat": 4,
 "nbformat_minor": 2
}
